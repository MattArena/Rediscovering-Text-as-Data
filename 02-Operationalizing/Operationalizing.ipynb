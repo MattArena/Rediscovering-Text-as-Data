{
 "cells": [
  {
   "cell_type": "markdown",
   "metadata": {},
   "source": [
    "# Character Space\n",
    "\n",
    "This notebook recreates results discussed in:\n",
    "\n",
    "- Moretti, Franco. \"'Operationalizing': or, the function of measurement in modern literary theory\". Stanford Literary Lab Pamphlet 6. 2013\n",
    "\n",
    "In Moretti's study, he offers several measures of the concept of <i>character space</i>. The simplest of these is to measure the relative dialogue belonging to each character in a play. Presumably the main characters will speak more and peripheral characters will speak less.\n",
    "\n",
    "The statistical moves we will make here are not only counting the raw number of words spoken by each character, but also normalizing them. That is, converting them into a fraction of all words in the play.\n",
    "\n",
    "In order to focus on the statistical tasks at hand, we need to parse raw text files to figure out who said what. Unfortunately, that's the hard part!"
   ]
  },
  {
   "cell_type": "code",
   "execution_count": 1,
   "metadata": {
    "collapsed": false
   },
   "outputs": [],
   "source": [
    "# Show graphs in notebook\n",
    "%matplotlib inline\n",
    "\n",
    "# Import libraries\n",
    "import pandas as pd  # tabular data analysis library\n",
    "import numpy as np  # mathematical operations library\n",
    "import os  # library for manipulating the file system and Bash\n",
    "from sklearn.feature_extraction.text import CountVectorizer \n",
    "import re  # regular expressions library\n",
    "import matplotlib.pyplot as plt  # plotting base library\n",
    "import seaborn as sns  # plotting extension library\n",
    "from bs4 import BeautifulSoup  # html/lxml parsing library\n",
    "from string import punctuation"
   ]
  },
  {
   "cell_type": "markdown",
   "metadata": {},
   "source": [
    "# Jean Racine's *Phèdre*"
   ]
  },
  {
   "cell_type": "code",
   "execution_count": 2,
   "metadata": {
    "collapsed": false
   },
   "outputs": [
    {
     "name": "stdout",
     "output_type": "stream",
     "text": [
      "ACT I\n",
      "\n",
      "SCENE I\n",
      "HIPPOLYTUS, THERAMENES\n",
      "\n",
      "\n",
      "HIPPOLYTUS\n",
      "My mind is settled, dear Theramenes,\n",
      "And I can stay no more in lovely Troezen.\n",
      "In doubt that racks my soul with mortal anguish,\n",
      "I grow ashamed of suc\n"
     ]
    }
   ],
   "source": [
    "# Read the text of the play from its file on the hard-drive\n",
    "with open('data/phedre.txt', 'r') as f:\n",
    "    phedre = f.read()\n",
    "\n",
    "print(phedre[:200])  # print first 200 characters"
   ]
  },
  {
   "cell_type": "code",
   "execution_count": 3,
   "metadata": {
    "collapsed": false
   },
   "outputs": [
    {
     "data": {
      "text/plain": [
       "['HIPPOLYTUS\\nMy mind is settled, dear Theramenes,\\nAnd I can stay no more in lovely Troezen.\\nIn doubt that racks my soul with mortal anguish,\\nI grow ashamed of such long idleness.\\nSix months and more my father has been gone,\\nAnd what may have befallen one so dear\\nI know not, nor what corner of the earth\\nHides him.',\n",
       " \"THERAMENES\\nAnd where, prince, will you look for him?\\nAlready, to content your just alarm,\\nHave I not cross'd the seas on either side\\nOf Corinth, ask'd if aught were known of Theseus\\nWhere Acheron is lost among the Shades,\\nVisited Elis, doubled Toenarus,\\nAnd sail'd into the sea that saw the fall\\nOf Icarus? Inspired with what new hope,\\nUnder what favour'd skies think you to trace\\nHis footsteps? Who knows if the King, your father,\\nWishes the secret of his absence known?\\nPerchance, while we are trembling for his life,\\nThe hero calmly plots some fresh intrigue,\\nAnd only waits till the deluded fair--\",\n",
       " \"HIPPOLYTUS\\nCease, dear Theramenes, respect the name\\nOf Theseus. Youthful errors have been left\\nBehind, and no unworthy obstacle\\nDetains him. Phaedra long has fix'd a heart\\nInconstant once, nor need she fear a rival.\\nIn seeking him I shall but do my duty,\\nAnd leave a place I dare no longer see.\"]"
      ]
     },
     "execution_count": 3,
     "metadata": {},
     "output_type": "execute_result"
    }
   ],
   "source": [
    "# Create a list, where each entry is a line from the play. We'll split on double line breaks.\n",
    "# Each line starts with the name of the speaker.\n",
    "phedre_list = phedre.split('\\n\\n')\n",
    "\n",
    "# Create a regex pattern to match words we don't want to start the line\n",
    "pattern = re.compile(r'ACT|SCENE|Scene')\n",
    "\n",
    "# Grab list of all the dialogue lines if they don't have the words above in them\n",
    "phedre_list = [x.strip() for x in phedre_list if re.match(pattern, x) == None and '\\n' in x.strip()]\n",
    "\n",
    "# Print first three dialogue turns\n",
    "phedre_list[:3]"
   ]
  },
  {
   "cell_type": "code",
   "execution_count": 4,
   "metadata": {
    "collapsed": false
   },
   "outputs": [
    {
     "name": "stdout",
     "output_type": "stream",
     "text": [
      "We have gone far enough. Stay, dear Oenone;\n",
      "Strength fails me, and I needs must rest awhile.\n",
      "My eyes are dazzled with this glaring light\n",
      "So long unseen, my trembling knees refuse\n",
      "Support. Ah me!Ah, ho\n"
     ]
    }
   ],
   "source": [
    "# Create a dictionary where each key is the name of a character\n",
    "# and each entry is a single string of words spoken by them\n",
    "\n",
    "# Initiate empty dict\n",
    "dialogue_dict = {}\n",
    "\n",
    "# Iterate through list of turns in the dialogue list\n",
    "for line in phedre_list:\n",
    "    \n",
    "    # Get the name of the character\n",
    "    char = line.split('\\n')[0].split()[0]\n",
    "    \n",
    "    # Get the dialogue text\n",
    "    dialogue = '\\n'.join(line.split('\\n')[1:])\n",
    "    \n",
    "    # Add dialogue text to that character\n",
    "    if char not in dialogue_dict.keys():\n",
    "        dialogue_dict[char] = dialogue\n",
    "    else:\n",
    "        dialogue_dict[char] += dialogue\n",
    "\n",
    "        \n",
    "# Print first 200 character's of Phaedra's dialogue\n",
    "print(dialogue_dict['PHAEDRA'][:200])"
   ]
  },
  {
   "cell_type": "code",
   "execution_count": 5,
   "metadata": {
    "collapsed": true
   },
   "outputs": [],
   "source": [
    "def plot_character_space(dialogue):\n",
    "    \n",
    "    # Create counter to get all words in all dialogue\n",
    "    total_words = 0\n",
    "    for char in dialogue.keys():\n",
    "        total_words += len(dialogue[char].split())\n",
    "        \n",
    "    # Create dict to record share of dialogue for each character\n",
    "    dialogue_share = {}\n",
    "    for char in dialogue.keys():\n",
    "        dialogue_share[char] = len(dialogue[char].split()) / total_words\n",
    "        \n",
    "    # Sort values to plot\n",
    "    values = sorted(dialogue_share.items(), key=lambda x: x[1], reverse=True)\n",
    "    \n",
    "    # Plot names and share of dialogue\n",
    "    sns.barplot([x[0] for x in values], [x[1] for x in values])\n",
    "    plt.xticks(rotation=90)\n",
    "    plt.show()"
   ]
  },
  {
   "cell_type": "code",
   "execution_count": 6,
   "metadata": {
    "collapsed": false
   },
   "outputs": [
    {
     "data": {
      "image/png": "[encoded data removed]",
      "text/plain": [
       "<matplotlib.figure.Figure at 0x1105f2780>"
      ]
     },
     "metadata": {},
     "output_type": "display_data"
    }
   ],
   "source": [
    "test = plot_character_space(dialogue_dict)"
   ]
  },
  {
   "cell_type": "markdown",
   "metadata": {},
   "source": [
    "<img src='img/fig1.png' width=\"66%\" height=\"66%\">"
   ]
  },
  {
   "cell_type": "markdown",
   "metadata": {},
   "source": [
    "# Macbeth"
   ]
  },
  {
   "cell_type": "code",
   "execution_count": 7,
   "metadata": {
    "collapsed": false
   },
   "outputs": [
    {
     "data": {
      "image/png": "[encoded data removed]",
      "text/plain": [
       "<matplotlib.figure.Figure at 0x113d65b00>"
      ]
     },
     "metadata": {},
     "output_type": "display_data"
    }
   ],
   "source": [
    "# Read in text\n",
    "with open('data/macbeth.txt', 'r') as f:\n",
    "    macbeth = f.read()\n",
    "\n",
    "# Get cast\n",
    "pattern = re.compile(r'<[A-Z ]*>')\n",
    "cast = list(set(re.findall(pattern, macbeth)))\n",
    "cast = [x.replace('>', '').replace('<', '') for x in cast]\n",
    "\n",
    "# Make dialogue dict\n",
    "soup = BeautifulSoup(macbeth, 'lxml')\n",
    "dialogue_dict = {}\n",
    "for c in cast:\n",
    "    dialogue = [x.text for x in soup.find_all(c.lower().split()[0])]\n",
    "    dialogue = '\\n'.join([re.sub(r'<.*>', '', x).strip() for x in dialogue])\n",
    "    dialogue_dict[c] = dialogue\n",
    "\n",
    "# Plot\n",
    "plot_character_space(dialogue_dict)"
   ]
  },
  {
   "cell_type": "markdown",
   "metadata": {},
   "source": [
    "<img src='img/fig3.png' width=\"66%\" height=\"66%\">"
   ]
  },
  {
   "cell_type": "markdown",
   "metadata": {},
   "source": [
    "# Othello"
   ]
  },
  {
   "cell_type": "code",
   "execution_count": 8,
   "metadata": {
    "collapsed": false
   },
   "outputs": [
    {
     "data": {
      "image/png": "[encoded data removed]",
      "text/plain": [
       "<matplotlib.figure.Figure at 0x11457b9b0>"
      ]
     },
     "metadata": {},
     "output_type": "display_data"
    }
   ],
   "source": [
    "# Read in text\n",
    "with open('data/othello.txt', 'r') as f:\n",
    "    othello = f.read()\n",
    "\n",
    "# Get cast\n",
    "pattern = re.compile(r'<[A-Z ]*>')\n",
    "cast = list(set(re.findall(pattern, othello)))\n",
    "cast = [x.replace('>', '').replace('<', '') for x in cast]\n",
    "\n",
    "# Make dialogue dict\n",
    "soup = BeautifulSoup(othello, 'lxml')\n",
    "dialogue_dict = {}\n",
    "for c in cast:\n",
    "    dialogue = [x.text for x in soup.find_all(c.lower().split()[0])]\n",
    "    dialogue = '\\n'.join([re.sub(r'<.*>', '', x).strip() for x in dialogue])\n",
    "    dialogue_dict[c] = dialogue\n",
    "\n",
    "# Plot\n",
    "plot_character_space(dialogue_dict)"
   ]
  },
  {
   "cell_type": "markdown",
   "metadata": {},
   "source": [
    "<img src='img/fig4.png' width=\"66%\" height=\"66%\">"
   ]
  },
  {
   "cell_type": "markdown",
   "metadata": {},
   "source": [
    "# Antigone"
   ]
  },
  {
   "cell_type": "code",
   "execution_count": 9,
   "metadata": {
    "collapsed": false
   },
   "outputs": [
    {
     "data": {
      "image/png": "[encoded data removed]",
      "text/plain": [
       "<matplotlib.figure.Figure at 0x113ed30f0>"
      ]
     },
     "metadata": {},
     "output_type": "display_data"
    }
   ],
   "source": [
    "# Read in text\n",
    "with open('data/antigone.txt', 'r') as f:\n",
    "    antigone = f.read()\n",
    "\n",
    "# Split lines\n",
    "antigone_list = antigone.split('\\n\\n')\n",
    "\n",
    "# Make dialogue dict\n",
    "dialogue_dict = {}\n",
    "for line in antigone_list:\n",
    "    dex = line.index(' ')\n",
    "    char = line[:dex]\n",
    "    if char not in dialogue_dict.keys():\n",
    "        dialogue_dict[char] = line[dex:]\n",
    "    else:\n",
    "        dialogue_dict[char] += line[dex:]\n",
    "\n",
    "# Plot\n",
    "plot_character_space(dialogue_dict)"
   ]
  },
  {
   "cell_type": "markdown",
   "metadata": {},
   "source": [
    "<img src='img/fig7.png' width=\"66%\" height=\"66%\">"
   ]
  },
  {
   "cell_type": "markdown",
   "metadata": {},
   "source": [
    "# Operationalizing Tragic Collision\n",
    "\n",
    "The first thing we'll want to do is create a list of stop words. Stop words are common words in a language that often surface as most common or even most distinctive words, but *allegedly* don't tell us much about meaning. I say *allegedly* because maybe for your interpretation the fact that someone says 'the' much more than another *is* significant.\n",
    "\n",
    "Moretti is not interested in these, so we need to make a list of words to remove before we can count relative frequencies of words."
   ]
  },
  {
   "cell_type": "code",
   "execution_count": 10,
   "metadata": {
    "collapsed": false
   },
   "outputs": [
    {
     "name": "stdout",
     "output_type": "stream",
     "text": [
      "['off', 'own', 'seemed', 'else', 'amount', 'namely', 'done', 'found', 'must', 'there', 'a', 'us', 'during', 'move', 'six', 'wherein', 'him', 'mill', 'each', 'couldnt', 'everywhere', 'anyone', 'cant', 'also', 'into', 'further', 'do', 'once', 'same', 'via', 'whereupon', 'them', 'whatever', 'behind', 'whoever', 'we', 'under', 'throughout', 'serious', 'become', 'neither', 'across', 'however', 'by', 'first', 'hereby', 'on', 'seems', 'both', 'yourselves', 'will', 'almost', 'whither', 'keep', 'yourself', 'of', 'ie', 'afterwards', 'and', 'against', 'as', 'becoming', 'nevertheless', 'nowhere', 'one', 'together', 'until', 'when', 'where', 'seem', 'then', 'thereupon', 'would', 'fifty', 'nor', 'back', 'if', 'before', 'about', 'it', 'onto', 'eg', 'or', 'sometimes', 'is', 'might', 'thereby', 'most', 'although', 'un', 'last', 'bill', 'only', 'alone', 'meanwhile', 'per', 'whom', 'but', 'all', 'nine', 'often', 'myself', 'beside', 'besides', 'inc', 'part', 'in', 'two', 'am', 'why', 'always', 'anyway', 'had', 'those', 'hence', 'her', 'toward', 'this', 'an', 'front', 'they', 'yet', 'within', 'detail', 'interest', 'never', 'except', 'every', 'now', 'hundred', 'its', 'elsewhere', 'fifteen', 'bottom', 'much', 'thick', 'what', 'therefore', 'me', 'either', 'noone', 'was', 'are', 'somehow', 'something', 'third', 'again', 'while', 'anyhow', 'any', 'call', 'already', 'please', 'therein', 'whenever', 'eight', 'give', 'have', 'for', 'hasnt', 'such', 'up', 'few', 'many', 'four', 'least', 'through', 'hereafter', 'along', 'seeming', 'towards', 'around', 'may', 'amoungst', 'indeed', 'below', 'than', 'others', 'mostly', 'down', 'eleven', 'among', 'whose', 'co', 'nothing', 'whole', 'could', 'ourselves', 'wherever', 'no', 'out', 'whether', 'since', 'system', 'several', 'yours', 're', 'enough', 'more', 'my', 'still', 'get', 'these', 'forty', 'moreover', 'so', 'describe', 'fill', 'here', 'latter', 'after', 'none', 'de', 'name', 'top', 'whereafter', 'some', 'thus', 'see', 'thru', 'whence', 'even', 'too', 'whereas', 'you', 'be', 'not', 'at', 'became', 'due', 'hers', 'everything', 'herself', 'itself', 'were', 'whereby', 'with', 'perhaps', 'three', 'thereafter', 'latterly', 'our', 'should', 'well', 'ever', 'hereupon', 'fire', 'himself', 'above', 'his', 'very', 'con', 'anything', 'twenty', 'becomes', 'otherwise', 'somewhere', 'next', 'he', 'take', 'their', 'your', 'because', 'without', 'nobody', 'ten', 'upon', 'how', 'i', 'etc', 'has', 'she', 'cry', 'anywhere', 'formerly', 'everyone', 'between', 'former', 'find', 'side', 'that', 'ltd', 'thin', 'sincere', 'thence', 'sometime', 'other', 'herein', 'over', 'amongst', 'rather', 'someone', 'beforehand', 'to', 'can', 'put', 'beyond', 'mine', 'the', 'twelve', 'who', 'which', 'empty', 'cannot', 'from', 'show', 'been', 'being', 'go', 'another', 'less', 'sixty', 'ours', 'themselves', 'made', 'five', 'though', 'full', 'thou', 'thy', 'thee', 'ye', 'hath', 'hast', 'wilt', 'aught', 'art', 'dost', 'doth', 'shalt', 'tis', 'canst', 'thyself']\n"
     ]
    }
   ],
   "source": [
    "# Since we're using an old translation of Antigone,\n",
    "# Let's supplement our stopword list with their old-timey forms\n",
    "\n",
    "from sklearn.feature_extraction.stop_words import ENGLISH_STOP_WORDS\n",
    "\n",
    "ye_olde_stop_words = ['thou','thy','thee', 'ye', 'hath','hast', 'wilt','aught',\\\n",
    "                      'art', 'dost','doth','shalt','tis','canst','thyself']\n",
    "stop_words = list(ENGLISH_STOP_WORDS)+ ye_olde_stop_words\n",
    "\n",
    "print(stop_words)"
   ]
  },
  {
   "cell_type": "markdown",
   "metadata": {},
   "source": [
    "# Most Distinctive Words\n",
    "\n",
    "The code below looks complicated, but all it does is count how many times each character said each word in the entire text. If the character didn't say the word, it just gets tallied as a 0. We then sum all of these counts to get the number of times each word is spoken in the text. If we're intested in the most distinctive words, we'd want to know how many times a character said a words compared to how many times it was spoken in the entire text. We'll make an 'EXPECTED' column that tells us if the word was distributed evenly amongst characters, how many times our target character should have said it. Then we'll add a column for the ratio between the observed occurences and the expected occurences.\n",
    "\n",
    "**TLDR: This code will tell us which words a specific character used more or less frequently than average for a character in a text.**"
   ]
  },
  {
   "cell_type": "code",
   "execution_count": 11,
   "metadata": {
    "collapsed": false
   },
   "outputs": [],
   "source": [
    "def get_mdw(dialogue_dict, character, group=False):\n",
    "    # Boot up the dtm-maker\n",
    "    cv = CountVectorizer()\n",
    "\n",
    "    # Create the dtm\n",
    "    dtm = cv.fit_transform(dialogue_dict.values())\n",
    "\n",
    "    # Put the dtm into human-readable format\n",
    "    word_list = cv.get_feature_names()\n",
    "    dtm_df = pd.DataFrame(dtm.toarray(), columns = word_list, index = dialogue_dict.keys())\n",
    "\n",
    "    # Create new dataframe\n",
    "    mdw_df = pd.DataFrame()\n",
    "\n",
    "    # Add a column for her observed word counts\n",
    "    mdw_df[character] = dtm_df.loc[character]\n",
    "\n",
    "    if group == False:\n",
    "        # Add a column for the total counts of each word in the play\n",
    "        mdw_df['WORD_TOTAL'] = dtm_df.sum()\n",
    "    else:\n",
    "        # Add a column for the total counts of each word for the characters in the defined group\n",
    "        mdw_df['WORD_TOTAL'] = dtm_df.loc[group].sum()\n",
    "\n",
    "    # Calculate Antigone's share of the total dialogue\n",
    "    char_space = sum(mdw_df[character])/float(sum(mdw_df['WORD_TOTAL']))\n",
    "\n",
    "    # Add a new column in which we calculate an \"expected\" number of times\n",
    "    # Antigone would utter each word, based on its overall use in the play\n",
    "    # and her share of the dialogue.\n",
    "\n",
    "    mdw_df[character + '_EXPECTED'] = mdw_df['WORD_TOTAL']*char_space\n",
    "\n",
    "    # How much more/less frequently does Antigone use the word than expected?\n",
    "    mdw_df['OBS-EXP_RATIO'] = mdw_df[character]/(mdw_df[character + '_EXPECTED'])\n",
    "    \n",
    "    # Sort the dataframe by the Observed/Expected Ratio to show \n",
    "    # Antigone's 20 \"Most Distinctive Words\"\n",
    "    return mdw_df[(mdw_df['OBS-EXP_RATIO']>1)&(mdw_df['WORD_TOTAL']>5)].sort_values('OBS-EXP_RATIO', ascending=False).head(20)"
   ]
  },
  {
   "cell_type": "code",
   "execution_count": 12,
   "metadata": {
    "collapsed": false,
    "scrolled": true
   },
   "outputs": [
    {
     "data": {
      "text/html": [
       "<div>\n",
       "<style>\n",
       "    .dataframe thead tr:only-child th {\n",
       "        text-align: right;\n",
       "    }\n",
       "\n",
       "    .dataframe thead th {\n",
       "        text-align: left;\n",
       "    }\n",
       "\n",
       "    .dataframe tbody tr th {\n",
       "        vertical-align: top;\n",
       "    }\n",
       "</style>\n",
       "<table border=\"1\" class=\"dataframe\">\n",
       "  <thead>\n",
       "    <tr style=\"text-align: right;\">\n",
       "      <th></th>\n",
       "      <th>ANTIGONE</th>\n",
       "      <th>WORD_TOTAL</th>\n",
       "      <th>ANTIGONE_EXPECTED</th>\n",
       "      <th>OBS-EXP_RATIO</th>\n",
       "    </tr>\n",
       "  </thead>\n",
       "  <tbody>\n",
       "    <tr>\n",
       "      <th>brother</th>\n",
       "      <td>10</td>\n",
       "      <td>14</td>\n",
       "      <td>2.234963</td>\n",
       "      <td>4.474348</td>\n",
       "    </tr>\n",
       "    <tr>\n",
       "      <th>aught</th>\n",
       "      <td>4</td>\n",
       "      <td>6</td>\n",
       "      <td>0.957841</td>\n",
       "      <td>4.176058</td>\n",
       "    </tr>\n",
       "    <tr>\n",
       "      <th>suffer</th>\n",
       "      <td>4</td>\n",
       "      <td>7</td>\n",
       "      <td>1.117481</td>\n",
       "      <td>3.579478</td>\n",
       "    </tr>\n",
       "    <tr>\n",
       "      <th>mother</th>\n",
       "      <td>7</td>\n",
       "      <td>14</td>\n",
       "      <td>2.234963</td>\n",
       "      <td>3.132043</td>\n",
       "    </tr>\n",
       "    <tr>\n",
       "      <th>nor</th>\n",
       "      <td>7</td>\n",
       "      <td>14</td>\n",
       "      <td>2.234963</td>\n",
       "      <td>3.132043</td>\n",
       "    </tr>\n",
       "    <tr>\n",
       "      <th>home</th>\n",
       "      <td>3</td>\n",
       "      <td>6</td>\n",
       "      <td>0.957841</td>\n",
       "      <td>3.132043</td>\n",
       "    </tr>\n",
       "    <tr>\n",
       "      <th>heaven</th>\n",
       "      <td>3</td>\n",
       "      <td>6</td>\n",
       "      <td>0.957841</td>\n",
       "      <td>3.132043</td>\n",
       "    </tr>\n",
       "    <tr>\n",
       "      <th>knew</th>\n",
       "      <td>3</td>\n",
       "      <td>6</td>\n",
       "      <td>0.957841</td>\n",
       "      <td>3.132043</td>\n",
       "    </tr>\n",
       "    <tr>\n",
       "      <th>mine</th>\n",
       "      <td>12</td>\n",
       "      <td>24</td>\n",
       "      <td>3.831365</td>\n",
       "      <td>3.132043</td>\n",
       "    </tr>\n",
       "    <tr>\n",
       "      <th>another</th>\n",
       "      <td>3</td>\n",
       "      <td>6</td>\n",
       "      <td>0.957841</td>\n",
       "      <td>3.132043</td>\n",
       "    </tr>\n",
       "    <tr>\n",
       "      <th>most</th>\n",
       "      <td>3</td>\n",
       "      <td>6</td>\n",
       "      <td>0.957841</td>\n",
       "      <td>3.132043</td>\n",
       "    </tr>\n",
       "    <tr>\n",
       "      <th>edict</th>\n",
       "      <td>3</td>\n",
       "      <td>6</td>\n",
       "      <td>0.957841</td>\n",
       "      <td>3.132043</td>\n",
       "    </tr>\n",
       "    <tr>\n",
       "      <th>could</th>\n",
       "      <td>6</td>\n",
       "      <td>13</td>\n",
       "      <td>2.075323</td>\n",
       "      <td>2.891117</td>\n",
       "    </tr>\n",
       "    <tr>\n",
       "      <th>share</th>\n",
       "      <td>4</td>\n",
       "      <td>9</td>\n",
       "      <td>1.436762</td>\n",
       "      <td>2.784038</td>\n",
       "    </tr>\n",
       "    <tr>\n",
       "      <th>living</th>\n",
       "      <td>4</td>\n",
       "      <td>9</td>\n",
       "      <td>1.436762</td>\n",
       "      <td>2.784038</td>\n",
       "    </tr>\n",
       "    <tr>\n",
       "      <th>hades</th>\n",
       "      <td>4</td>\n",
       "      <td>9</td>\n",
       "      <td>1.436762</td>\n",
       "      <td>2.784038</td>\n",
       "    </tr>\n",
       "    <tr>\n",
       "      <th>fear</th>\n",
       "      <td>3</td>\n",
       "      <td>7</td>\n",
       "      <td>1.117481</td>\n",
       "      <td>2.684609</td>\n",
       "    </tr>\n",
       "    <tr>\n",
       "      <th>marriage</th>\n",
       "      <td>3</td>\n",
       "      <td>7</td>\n",
       "      <td>1.117481</td>\n",
       "      <td>2.684609</td>\n",
       "    </tr>\n",
       "    <tr>\n",
       "      <th>knowest</th>\n",
       "      <td>3</td>\n",
       "      <td>7</td>\n",
       "      <td>1.117481</td>\n",
       "      <td>2.684609</td>\n",
       "    </tr>\n",
       "    <tr>\n",
       "      <th>daughter</th>\n",
       "      <td>3</td>\n",
       "      <td>7</td>\n",
       "      <td>1.117481</td>\n",
       "      <td>2.684609</td>\n",
       "    </tr>\n",
       "  </tbody>\n",
       "</table>\n",
       "</div>"
      ],
      "text/plain": [
       "          ANTIGONE  WORD_TOTAL  ANTIGONE_EXPECTED  OBS-EXP_RATIO\n",
       "brother         10          14           2.234963       4.474348\n",
       "aught            4           6           0.957841       4.176058\n",
       "suffer           4           7           1.117481       3.579478\n",
       "mother           7          14           2.234963       3.132043\n",
       "nor              7          14           2.234963       3.132043\n",
       "home             3           6           0.957841       3.132043\n",
       "heaven           3           6           0.957841       3.132043\n",
       "knew             3           6           0.957841       3.132043\n",
       "mine            12          24           3.831365       3.132043\n",
       "another          3           6           0.957841       3.132043\n",
       "most             3           6           0.957841       3.132043\n",
       "edict            3           6           0.957841       3.132043\n",
       "could            6          13           2.075323       2.891117\n",
       "share            4           9           1.436762       2.784038\n",
       "living           4           9           1.436762       2.784038\n",
       "hades            4           9           1.436762       2.784038\n",
       "fear             3           7           1.117481       2.684609\n",
       "marriage         3           7           1.117481       2.684609\n",
       "knowest          3           7           1.117481       2.684609\n",
       "daughter         3           7           1.117481       2.684609"
      ]
     },
     "execution_count": 12,
     "metadata": {},
     "output_type": "execute_result"
    }
   ],
   "source": [
    "get_mdw(dialogue_dict, 'ANTIGONE')"
   ]
  },
  {
   "cell_type": "code",
   "execution_count": 13,
   "metadata": {
    "collapsed": false
   },
   "outputs": [
    {
     "data": {
      "text/html": [
       "<div>\n",
       "<style>\n",
       "    .dataframe thead tr:only-child th {\n",
       "        text-align: right;\n",
       "    }\n",
       "\n",
       "    .dataframe thead th {\n",
       "        text-align: left;\n",
       "    }\n",
       "\n",
       "    .dataframe tbody tr th {\n",
       "        vertical-align: top;\n",
       "    }\n",
       "</style>\n",
       "<table border=\"1\" class=\"dataframe\">\n",
       "  <thead>\n",
       "    <tr style=\"text-align: right;\">\n",
       "      <th></th>\n",
       "      <th>CREON</th>\n",
       "      <th>WORD_TOTAL</th>\n",
       "      <th>CREON_EXPECTED</th>\n",
       "      <th>OBS-EXP_RATIO</th>\n",
       "    </tr>\n",
       "  </thead>\n",
       "  <tbody>\n",
       "    <tr>\n",
       "      <th>let</th>\n",
       "      <td>7</td>\n",
       "      <td>9</td>\n",
       "      <td>2.424587</td>\n",
       "      <td>2.887090</td>\n",
       "    </tr>\n",
       "    <tr>\n",
       "      <th>sayest</th>\n",
       "      <td>6</td>\n",
       "      <td>8</td>\n",
       "      <td>2.155188</td>\n",
       "      <td>2.783980</td>\n",
       "    </tr>\n",
       "    <tr>\n",
       "      <th>woman</th>\n",
       "      <td>8</td>\n",
       "      <td>11</td>\n",
       "      <td>2.963384</td>\n",
       "      <td>2.699617</td>\n",
       "    </tr>\n",
       "    <tr>\n",
       "      <th>your</th>\n",
       "      <td>6</td>\n",
       "      <td>9</td>\n",
       "      <td>2.424587</td>\n",
       "      <td>2.474649</td>\n",
       "    </tr>\n",
       "    <tr>\n",
       "      <th>dost</th>\n",
       "      <td>8</td>\n",
       "      <td>12</td>\n",
       "      <td>3.232782</td>\n",
       "      <td>2.474649</td>\n",
       "    </tr>\n",
       "    <tr>\n",
       "      <th>lead</th>\n",
       "      <td>4</td>\n",
       "      <td>6</td>\n",
       "      <td>1.616391</td>\n",
       "      <td>2.474649</td>\n",
       "    </tr>\n",
       "    <tr>\n",
       "      <th>grave</th>\n",
       "      <td>4</td>\n",
       "      <td>6</td>\n",
       "      <td>1.616391</td>\n",
       "      <td>2.474649</td>\n",
       "    </tr>\n",
       "    <tr>\n",
       "      <th>ye</th>\n",
       "      <td>16</td>\n",
       "      <td>26</td>\n",
       "      <td>7.004361</td>\n",
       "      <td>2.284291</td>\n",
       "    </tr>\n",
       "    <tr>\n",
       "      <th>friend</th>\n",
       "      <td>5</td>\n",
       "      <td>9</td>\n",
       "      <td>2.424587</td>\n",
       "      <td>2.062207</td>\n",
       "    </tr>\n",
       "    <tr>\n",
       "      <th>woe</th>\n",
       "      <td>8</td>\n",
       "      <td>15</td>\n",
       "      <td>4.040978</td>\n",
       "      <td>1.979719</td>\n",
       "    </tr>\n",
       "    <tr>\n",
       "      <th>shalt</th>\n",
       "      <td>4</td>\n",
       "      <td>8</td>\n",
       "      <td>2.155188</td>\n",
       "      <td>1.855987</td>\n",
       "    </tr>\n",
       "    <tr>\n",
       "      <th>side</th>\n",
       "      <td>4</td>\n",
       "      <td>8</td>\n",
       "      <td>2.155188</td>\n",
       "      <td>1.855987</td>\n",
       "    </tr>\n",
       "    <tr>\n",
       "      <th>taken</th>\n",
       "      <td>4</td>\n",
       "      <td>8</td>\n",
       "      <td>2.155188</td>\n",
       "      <td>1.855987</td>\n",
       "    </tr>\n",
       "    <tr>\n",
       "      <th>burial</th>\n",
       "      <td>4</td>\n",
       "      <td>8</td>\n",
       "      <td>2.155188</td>\n",
       "      <td>1.855987</td>\n",
       "    </tr>\n",
       "    <tr>\n",
       "      <th>edict</th>\n",
       "      <td>3</td>\n",
       "      <td>6</td>\n",
       "      <td>1.616391</td>\n",
       "      <td>1.855987</td>\n",
       "    </tr>\n",
       "    <tr>\n",
       "      <th>every</th>\n",
       "      <td>3</td>\n",
       "      <td>6</td>\n",
       "      <td>1.616391</td>\n",
       "      <td>1.855987</td>\n",
       "    </tr>\n",
       "    <tr>\n",
       "      <th>ruin</th>\n",
       "      <td>3</td>\n",
       "      <td>6</td>\n",
       "      <td>1.616391</td>\n",
       "      <td>1.855987</td>\n",
       "    </tr>\n",
       "    <tr>\n",
       "      <th>behold</th>\n",
       "      <td>3</td>\n",
       "      <td>6</td>\n",
       "      <td>1.616391</td>\n",
       "      <td>1.855987</td>\n",
       "    </tr>\n",
       "    <tr>\n",
       "      <th>before</th>\n",
       "      <td>6</td>\n",
       "      <td>12</td>\n",
       "      <td>3.232782</td>\n",
       "      <td>1.855987</td>\n",
       "    </tr>\n",
       "    <tr>\n",
       "      <th>wife</th>\n",
       "      <td>3</td>\n",
       "      <td>6</td>\n",
       "      <td>1.616391</td>\n",
       "      <td>1.855987</td>\n",
       "    </tr>\n",
       "  </tbody>\n",
       "</table>\n",
       "</div>"
      ],
      "text/plain": [
       "        CREON  WORD_TOTAL  CREON_EXPECTED  OBS-EXP_RATIO\n",
       "let         7           9        2.424587       2.887090\n",
       "sayest      6           8        2.155188       2.783980\n",
       "woman       8          11        2.963384       2.699617\n",
       "your        6           9        2.424587       2.474649\n",
       "dost        8          12        3.232782       2.474649\n",
       "lead        4           6        1.616391       2.474649\n",
       "grave       4           6        1.616391       2.474649\n",
       "ye         16          26        7.004361       2.284291\n",
       "friend      5           9        2.424587       2.062207\n",
       "woe         8          15        4.040978       1.979719\n",
       "shalt       4           8        2.155188       1.855987\n",
       "side        4           8        2.155188       1.855987\n",
       "taken       4           8        2.155188       1.855987\n",
       "burial      4           8        2.155188       1.855987\n",
       "edict       3           6        1.616391       1.855987\n",
       "every       3           6        1.616391       1.855987\n",
       "ruin        3           6        1.616391       1.855987\n",
       "behold      3           6        1.616391       1.855987\n",
       "before      6          12        3.232782       1.855987\n",
       "wife        3           6        1.616391       1.855987"
      ]
     },
     "execution_count": 13,
     "metadata": {},
     "output_type": "execute_result"
    }
   ],
   "source": [
    "get_mdw(dialogue_dict, 'CREON')"
   ]
  },
  {
   "cell_type": "markdown",
   "metadata": {},
   "source": [
    "Here's what Moretti had as most distinctive words:"
   ]
  },
  {
   "cell_type": "markdown",
   "metadata": {},
   "source": [
    "<img src='img/mdw-nouns.png' width=\"66%\" height=\"66%\">\n",
    "<img src='img/mdw-verbs.png' width=\"66%\" height=\"66%\">"
   ]
  },
  {
   "cell_type": "markdown",
   "metadata": {},
   "source": [
    "But Moretti notes that these are Antigone's and Creon's most distinctive words as compared to the rest of the text (al the characters in the text). What we are interested in only the relationship between the two characters? We can look at the most distinctive words given the dialogue of only Antigone and Creon the same way, just leaving out the rest of the dialogue:"
   ]
  },
  {
   "cell_type": "code",
   "execution_count": 14,
   "metadata": {
    "collapsed": false
   },
   "outputs": [
    {
     "data": {
      "text/html": [
       "<div>\n",
       "<style>\n",
       "    .dataframe thead tr:only-child th {\n",
       "        text-align: right;\n",
       "    }\n",
       "\n",
       "    .dataframe thead th {\n",
       "        text-align: left;\n",
       "    }\n",
       "\n",
       "    .dataframe tbody tr th {\n",
       "        vertical-align: top;\n",
       "    }\n",
       "</style>\n",
       "<table border=\"1\" class=\"dataframe\">\n",
       "  <thead>\n",
       "    <tr style=\"text-align: right;\">\n",
       "      <th></th>\n",
       "      <th>ANTIGONE</th>\n",
       "      <th>WORD_TOTAL</th>\n",
       "      <th>ANTIGONE_EXPECTED</th>\n",
       "      <th>OBS-EXP_RATIO</th>\n",
       "    </tr>\n",
       "  </thead>\n",
       "  <tbody>\n",
       "    <tr>\n",
       "      <th>nor</th>\n",
       "      <td>7</td>\n",
       "      <td>8</td>\n",
       "      <td>2.976705</td>\n",
       "      <td>2.351594</td>\n",
       "    </tr>\n",
       "    <tr>\n",
       "      <th>mother</th>\n",
       "      <td>7</td>\n",
       "      <td>8</td>\n",
       "      <td>2.976705</td>\n",
       "      <td>2.351594</td>\n",
       "    </tr>\n",
       "    <tr>\n",
       "      <th>brother</th>\n",
       "      <td>10</td>\n",
       "      <td>13</td>\n",
       "      <td>4.837145</td>\n",
       "      <td>2.067335</td>\n",
       "    </tr>\n",
       "    <tr>\n",
       "      <th>could</th>\n",
       "      <td>6</td>\n",
       "      <td>8</td>\n",
       "      <td>2.976705</td>\n",
       "      <td>2.015652</td>\n",
       "    </tr>\n",
       "    <tr>\n",
       "      <th>whom</th>\n",
       "      <td>5</td>\n",
       "      <td>7</td>\n",
       "      <td>2.604617</td>\n",
       "      <td>1.919668</td>\n",
       "    </tr>\n",
       "    <tr>\n",
       "      <th>suffer</th>\n",
       "      <td>4</td>\n",
       "      <td>6</td>\n",
       "      <td>2.232529</td>\n",
       "      <td>1.791690</td>\n",
       "    </tr>\n",
       "    <tr>\n",
       "      <th>share</th>\n",
       "      <td>4</td>\n",
       "      <td>6</td>\n",
       "      <td>2.232529</td>\n",
       "      <td>1.791690</td>\n",
       "    </tr>\n",
       "    <tr>\n",
       "      <th>last</th>\n",
       "      <td>4</td>\n",
       "      <td>6</td>\n",
       "      <td>2.232529</td>\n",
       "      <td>1.791690</td>\n",
       "    </tr>\n",
       "    <tr>\n",
       "      <th>die</th>\n",
       "      <td>4</td>\n",
       "      <td>6</td>\n",
       "      <td>2.232529</td>\n",
       "      <td>1.791690</td>\n",
       "    </tr>\n",
       "    <tr>\n",
       "      <th>go</th>\n",
       "      <td>4</td>\n",
       "      <td>6</td>\n",
       "      <td>2.232529</td>\n",
       "      <td>1.791690</td>\n",
       "    </tr>\n",
       "    <tr>\n",
       "      <th>living</th>\n",
       "      <td>4</td>\n",
       "      <td>6</td>\n",
       "      <td>2.232529</td>\n",
       "      <td>1.791690</td>\n",
       "    </tr>\n",
       "    <tr>\n",
       "      <th>mine</th>\n",
       "      <td>12</td>\n",
       "      <td>18</td>\n",
       "      <td>6.697586</td>\n",
       "      <td>1.791690</td>\n",
       "    </tr>\n",
       "    <tr>\n",
       "      <th>dead</th>\n",
       "      <td>9</td>\n",
       "      <td>14</td>\n",
       "      <td>5.209233</td>\n",
       "      <td>1.727701</td>\n",
       "    </tr>\n",
       "    <tr>\n",
       "      <th>had</th>\n",
       "      <td>5</td>\n",
       "      <td>8</td>\n",
       "      <td>2.976705</td>\n",
       "      <td>1.679710</td>\n",
       "    </tr>\n",
       "    <tr>\n",
       "      <th>wilt</th>\n",
       "      <td>8</td>\n",
       "      <td>13</td>\n",
       "      <td>4.837145</td>\n",
       "      <td>1.653868</td>\n",
       "    </tr>\n",
       "    <tr>\n",
       "      <th>they</th>\n",
       "      <td>9</td>\n",
       "      <td>15</td>\n",
       "      <td>5.581321</td>\n",
       "      <td>1.612521</td>\n",
       "    </tr>\n",
       "    <tr>\n",
       "      <th>gods</th>\n",
       "      <td>7</td>\n",
       "      <td>12</td>\n",
       "      <td>4.465057</td>\n",
       "      <td>1.567729</td>\n",
       "    </tr>\n",
       "    <tr>\n",
       "      <th>such</th>\n",
       "      <td>7</td>\n",
       "      <td>12</td>\n",
       "      <td>4.465057</td>\n",
       "      <td>1.567729</td>\n",
       "    </tr>\n",
       "    <tr>\n",
       "      <th>thee</th>\n",
       "      <td>14</td>\n",
       "      <td>24</td>\n",
       "      <td>8.930114</td>\n",
       "      <td>1.567729</td>\n",
       "    </tr>\n",
       "    <tr>\n",
       "      <th>thus</th>\n",
       "      <td>4</td>\n",
       "      <td>7</td>\n",
       "      <td>2.604617</td>\n",
       "      <td>1.535735</td>\n",
       "    </tr>\n",
       "  </tbody>\n",
       "</table>\n",
       "</div>"
      ],
      "text/plain": [
       "         ANTIGONE  WORD_TOTAL  ANTIGONE_EXPECTED  OBS-EXP_RATIO\n",
       "nor             7           8           2.976705       2.351594\n",
       "mother          7           8           2.976705       2.351594\n",
       "brother        10          13           4.837145       2.067335\n",
       "could           6           8           2.976705       2.015652\n",
       "whom            5           7           2.604617       1.919668\n",
       "suffer          4           6           2.232529       1.791690\n",
       "share           4           6           2.232529       1.791690\n",
       "last            4           6           2.232529       1.791690\n",
       "die             4           6           2.232529       1.791690\n",
       "go              4           6           2.232529       1.791690\n",
       "living          4           6           2.232529       1.791690\n",
       "mine           12          18           6.697586       1.791690\n",
       "dead            9          14           5.209233       1.727701\n",
       "had             5           8           2.976705       1.679710\n",
       "wilt            8          13           4.837145       1.653868\n",
       "they            9          15           5.581321       1.612521\n",
       "gods            7          12           4.465057       1.567729\n",
       "such            7          12           4.465057       1.567729\n",
       "thee           14          24           8.930114       1.567729\n",
       "thus            4           7           2.604617       1.535735"
      ]
     },
     "execution_count": 14,
     "metadata": {},
     "output_type": "execute_result"
    }
   ],
   "source": [
    "get_mdw(dialogue_dict, 'ANTIGONE', group=['ANTIGONE', 'CREON'])"
   ]
  },
  {
   "cell_type": "code",
   "execution_count": 15,
   "metadata": {
    "collapsed": false
   },
   "outputs": [
    {
     "data": {
      "text/html": [
       "<div>\n",
       "<style>\n",
       "    .dataframe thead tr:only-child th {\n",
       "        text-align: right;\n",
       "    }\n",
       "\n",
       "    .dataframe thead th {\n",
       "        text-align: left;\n",
       "    }\n",
       "\n",
       "    .dataframe tbody tr th {\n",
       "        vertical-align: top;\n",
       "    }\n",
       "</style>\n",
       "<table border=\"1\" class=\"dataframe\">\n",
       "  <thead>\n",
       "    <tr style=\"text-align: right;\">\n",
       "      <th></th>\n",
       "      <th>CREON</th>\n",
       "      <th>WORD_TOTAL</th>\n",
       "      <th>CREON_EXPECTED</th>\n",
       "      <th>OBS-EXP_RATIO</th>\n",
       "    </tr>\n",
       "  </thead>\n",
       "  <tbody>\n",
       "    <tr>\n",
       "      <th>sayest</th>\n",
       "      <td>6</td>\n",
       "      <td>6</td>\n",
       "      <td>3.767471</td>\n",
       "      <td>1.592580</td>\n",
       "    </tr>\n",
       "    <tr>\n",
       "      <th>she</th>\n",
       "      <td>16</td>\n",
       "      <td>16</td>\n",
       "      <td>10.046590</td>\n",
       "      <td>1.592580</td>\n",
       "    </tr>\n",
       "    <tr>\n",
       "      <th>woman</th>\n",
       "      <td>8</td>\n",
       "      <td>8</td>\n",
       "      <td>5.023295</td>\n",
       "      <td>1.592580</td>\n",
       "    </tr>\n",
       "    <tr>\n",
       "      <th>woe</th>\n",
       "      <td>8</td>\n",
       "      <td>8</td>\n",
       "      <td>5.023295</td>\n",
       "      <td>1.592580</td>\n",
       "    </tr>\n",
       "    <tr>\n",
       "      <th>let</th>\n",
       "      <td>7</td>\n",
       "      <td>7</td>\n",
       "      <td>4.395383</td>\n",
       "      <td>1.592580</td>\n",
       "    </tr>\n",
       "    <tr>\n",
       "      <th>we</th>\n",
       "      <td>8</td>\n",
       "      <td>9</td>\n",
       "      <td>5.651207</td>\n",
       "      <td>1.415627</td>\n",
       "    </tr>\n",
       "    <tr>\n",
       "      <th>dost</th>\n",
       "      <td>8</td>\n",
       "      <td>9</td>\n",
       "      <td>5.651207</td>\n",
       "      <td>1.415627</td>\n",
       "    </tr>\n",
       "    <tr>\n",
       "      <th>evil</th>\n",
       "      <td>7</td>\n",
       "      <td>8</td>\n",
       "      <td>5.023295</td>\n",
       "      <td>1.393508</td>\n",
       "    </tr>\n",
       "    <tr>\n",
       "      <th>man</th>\n",
       "      <td>13</td>\n",
       "      <td>15</td>\n",
       "      <td>9.418679</td>\n",
       "      <td>1.380236</td>\n",
       "    </tr>\n",
       "    <tr>\n",
       "      <th>even</th>\n",
       "      <td>6</td>\n",
       "      <td>7</td>\n",
       "      <td>4.395383</td>\n",
       "      <td>1.365069</td>\n",
       "    </tr>\n",
       "    <tr>\n",
       "      <th>this</th>\n",
       "      <td>45</td>\n",
       "      <td>54</td>\n",
       "      <td>33.907243</td>\n",
       "      <td>1.327150</td>\n",
       "    </tr>\n",
       "    <tr>\n",
       "      <th>art</th>\n",
       "      <td>5</td>\n",
       "      <td>6</td>\n",
       "      <td>3.767471</td>\n",
       "      <td>1.327150</td>\n",
       "    </tr>\n",
       "    <tr>\n",
       "      <th>indeed</th>\n",
       "      <td>5</td>\n",
       "      <td>6</td>\n",
       "      <td>3.767471</td>\n",
       "      <td>1.327150</td>\n",
       "    </tr>\n",
       "    <tr>\n",
       "      <th>away</th>\n",
       "      <td>5</td>\n",
       "      <td>6</td>\n",
       "      <td>3.767471</td>\n",
       "      <td>1.327150</td>\n",
       "    </tr>\n",
       "    <tr>\n",
       "      <th>men</th>\n",
       "      <td>9</td>\n",
       "      <td>11</td>\n",
       "      <td>6.907031</td>\n",
       "      <td>1.303020</td>\n",
       "    </tr>\n",
       "    <tr>\n",
       "      <th>son</th>\n",
       "      <td>9</td>\n",
       "      <td>11</td>\n",
       "      <td>6.907031</td>\n",
       "      <td>1.303020</td>\n",
       "    </tr>\n",
       "    <tr>\n",
       "      <th>his</th>\n",
       "      <td>21</td>\n",
       "      <td>26</td>\n",
       "      <td>16.325709</td>\n",
       "      <td>1.286315</td>\n",
       "    </tr>\n",
       "    <tr>\n",
       "      <th>her</th>\n",
       "      <td>25</td>\n",
       "      <td>31</td>\n",
       "      <td>19.465269</td>\n",
       "      <td>1.284339</td>\n",
       "    </tr>\n",
       "    <tr>\n",
       "      <th>at</th>\n",
       "      <td>14</td>\n",
       "      <td>18</td>\n",
       "      <td>11.302414</td>\n",
       "      <td>1.238673</td>\n",
       "    </tr>\n",
       "    <tr>\n",
       "      <th>them</th>\n",
       "      <td>7</td>\n",
       "      <td>9</td>\n",
       "      <td>5.651207</td>\n",
       "      <td>1.238673</td>\n",
       "    </tr>\n",
       "  </tbody>\n",
       "</table>\n",
       "</div>"
      ],
      "text/plain": [
       "        CREON  WORD_TOTAL  CREON_EXPECTED  OBS-EXP_RATIO\n",
       "sayest      6           6        3.767471       1.592580\n",
       "she        16          16       10.046590       1.592580\n",
       "woman       8           8        5.023295       1.592580\n",
       "woe         8           8        5.023295       1.592580\n",
       "let         7           7        4.395383       1.592580\n",
       "we          8           9        5.651207       1.415627\n",
       "dost        8           9        5.651207       1.415627\n",
       "evil        7           8        5.023295       1.393508\n",
       "man        13          15        9.418679       1.380236\n",
       "even        6           7        4.395383       1.365069\n",
       "this       45          54       33.907243       1.327150\n",
       "art         5           6        3.767471       1.327150\n",
       "indeed      5           6        3.767471       1.327150\n",
       "away        5           6        3.767471       1.327150\n",
       "men         9          11        6.907031       1.303020\n",
       "son         9          11        6.907031       1.303020\n",
       "his        21          26       16.325709       1.286315\n",
       "her        25          31       19.465269       1.284339\n",
       "at         14          18       11.302414       1.238673\n",
       "them        7           9        5.651207       1.238673"
      ]
     },
     "execution_count": 15,
     "metadata": {},
     "output_type": "execute_result"
    }
   ],
   "source": [
    "get_mdw(dialogue_dict, 'CREON', group=['ANTIGONE', 'CREON'])"
   ]
  },
  {
   "cell_type": "markdown",
   "metadata": {},
   "source": [
    "Here's what Moretti had:"
   ]
  },
  {
   "cell_type": "markdown",
   "metadata": {},
   "source": [
    "<img src='img/mdw-2.png' width=\"66%\" height=\"66%\">"
   ]
  },
  {
   "cell_type": "markdown",
   "metadata": {},
   "source": [
    "## Challenge\n",
    "\n",
    "Experiment with looking at the most distinctive words for characters in the other plays we looked at (*Phèdre* and *Macbeth*)"
   ]
  },
  {
   "cell_type": "code",
   "execution_count": 16,
   "metadata": {
    "collapsed": true
   },
   "outputs": [],
   "source": [
    "## YOUR CODE HERE\n"
   ]
  },
  {
   "cell_type": "markdown",
   "metadata": {},
   "source": [
    "If you've already taken Data 8, or your Python text parsing skills are already advanced, try this one:\n",
    "\n",
    "I've placed two more text files in the data folder for the two remaining dramas Moretti plots: Friedrich Schiller's *Don Carlos* and Henrik Ibsen's *Ghosts*. Write some code to plot the character space!"
   ]
  },
  {
   "cell_type": "code",
   "execution_count": 17,
   "metadata": {
    "collapsed": false
   },
   "outputs": [
    {
     "name": "stdout",
     "output_type": "stream",
     "text": [
      "antigone.txt  ghosts.txt    \u001b[31mothello.txt\u001b[m\u001b[m\r\n",
      "doncarlos.txt \u001b[31mmacbeth.txt\u001b[m\u001b[m   phedre.txt\r\n"
     ]
    }
   ],
   "source": [
    "!ls data"
   ]
  },
  {
   "cell_type": "code",
   "execution_count": 18,
   "metadata": {
    "collapsed": true
   },
   "outputs": [],
   "source": [
    "## YOUR CODE HERE\n"
   ]
  },
  {
   "cell_type": "markdown",
   "metadata": {},
   "source": [
    "<img src='img/fig5.png' width=\"66%\" height=\"66%\">"
   ]
  },
  {
   "cell_type": "markdown",
   "metadata": {},
   "source": [
    "<img src='img/fig6.png' width=\"66%\" height=\"66%\">"
   ]
  }
 ],
 "metadata": {
  "anaconda-cloud": {},
  "kernelspec": {
   "display_name": "Python [default]",
   "language": "python",
   "name": "python3"
  },
  "language_info": {
   "codemirror_mode": {
    "name": "ipython",
    "version": 3
   },
   "file_extension": ".py",
   "mimetype": "text/x-python",
   "name": "python",
   "nbconvert_exporter": "python",
   "pygments_lexer": "ipython3",
   "version": "3.5.2"
  }
 },
 "nbformat": 4,
 "nbformat_minor": 0
}
