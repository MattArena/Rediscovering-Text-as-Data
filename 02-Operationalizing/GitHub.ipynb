{
 "cells": [
  {
   "cell_type": "markdown",
   "metadata": {
    "collapsed": true
   },
   "source": [
    "```bash\n",
    "git config --global user.name \"henchc\"\n",
    "git config --global user.email \"chench@berkeley.edu\"\n",
    "```\n",
    "\n",
    "Then we need to add a remote for this repository:\n",
    "\n",
    "```bash\n",
    "git remote -v\n",
    "```\n",
    "\n",
    "```bash\n",
    "git remote add my-repo https://github.com/henchc/test\n",
    "```\n",
    "\n",
    "```bash\n",
    "git add -A\n",
    "git commit -m 'made these changes'\n",
    "git push my-repo\n",
    "```"
   ]
  },
  {
   "cell_type": "code",
   "execution_count": null,
   "metadata": {
    "collapsed": true
   },
   "outputs": [],
   "source": []
  }
 ],
 "metadata": {
  "anaconda-cloud": {},
  "kernelspec": {
   "display_name": "Python [conda root]",
   "language": "python",
   "name": "conda-root-py"
  },
  "language_info": {
   "codemirror_mode": {
    "name": "ipython",
    "version": 3
   },
   "file_extension": ".py",
   "mimetype": "text/x-python",
   "name": "python",
   "nbconvert_exporter": "python",
   "pygments_lexer": "ipython3",
   "version": "3.5.2"
  }
 },
 "nbformat": 4,
 "nbformat_minor": 1
}
